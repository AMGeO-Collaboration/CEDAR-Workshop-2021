{
 "cells": [
  {
   "cell_type": "markdown",
   "metadata": {},
   "source": [
    "# Cross Polar Cap Potential Example\n",
    "\n",
    "In this notebook, we will complete a simple exercise using the new AMGeO API!\n",
    "\n",
    "The Exercise will be as follows:\n",
    "\n",
    "- Generate data for some dates\n",
    "- Load the data into a DataSet\n",
    "- Compute the Cross Polar Cap Potentials for our series of data\n",
    "- Plot the Potenaials on a time series"
   ]
  },
  {
   "cell_type": "code",
   "execution_count": null,
   "metadata": {},
   "outputs": [],
   "source": [
    "import numpy as np\n",
    "import matplotlib.pyplot as plt\n",
    "from AMGeO.api import AMGeOApi\n",
    "from datetime import datetime"
   ]
  },
  {
   "cell_type": "code",
   "execution_count": null,
   "metadata": {},
   "outputs": [],
   "source": [
    "api = AMGeOApi()"
   ]
  },
  {
   "cell_type": "markdown",
   "metadata": {},
   "source": [
    "## Generate AMGeO Data\n",
    "\n",
    "Let's generate data for 4 specific datetimes:\n",
    "\n",
    "- 1/1/2017 12:00:00\n",
    "- 1/1/2017 13:00:00\n",
    "- 1/1/2017 14:00:00\n",
    "- 1/1/2017 15:00:00"
   ]
  },
  {
   "cell_type": "markdown",
   "metadata": {},
   "source": [
    "Before we do that, lets set our output directory to a custom directory just for this exercise"
   ]
  },
  {
   "cell_type": "code",
   "execution_count": null,
   "metadata": {},
   "outputs": [],
   "source": [
    "api.set_output_dir('./potential_exercise_output')"
   ]
  },
  {
   "cell_type": "markdown",
   "metadata": {},
   "source": [
    "Now that we have that out of the way, lets get the AMGeO Default Controller and start generating some data"
   ]
  },
  {
   "cell_type": "code",
   "execution_count": null,
   "metadata": {},
   "outputs": [],
   "source": [
    "controller = api.get_controller()"
   ]
  },
  {
   "cell_type": "code",
   "execution_count": null,
   "metadata": {},
   "outputs": [],
   "source": [
    "dts = [\n",
    "    # TODO: fill in the dates!\n",
    "]\n",
    "\n",
    "# ANSWER\n",
    "dts = [\n",
    "    datetime(2017, 1, 1, 12, 0, 0),\n",
    "    datetime(2017, 1, 1, 13, 0, 0),\n",
    "    datetime(2017, 1, 1, 14, 0, 0),\n",
    "    datetime(2017, 1, 1, 15, 0, 0)\n",
    "]"
   ]
  },
  {
   "cell_type": "code",
   "execution_count": null,
   "metadata": {},
   "outputs": [],
   "source": [
    "# NO PEEKING\n",
    "assert(datetime(2017, 1, 1, 12, 0, 0) in dts)\n",
    "assert(datetime(2017, 1, 1, 13, 0, 0) in dts)\n",
    "assert(datetime(2017, 1, 1, 14, 0, 0) in dts)\n",
    "assert(datetime(2017, 1, 1, 15, 0, 0) in dts)"
   ]
  },
  {
   "cell_type": "code",
   "execution_count": null,
   "metadata": {},
   "outputs": [],
   "source": [
    "controller.generate(dts, 'N')"
   ]
  },
  {
   "cell_type": "markdown",
   "metadata": {},
   "source": [
    "## Load the data into a DataSet"
   ]
  },
  {
   "cell_type": "code",
   "execution_count": null,
   "metadata": {},
   "outputs": [],
   "source": [
    "ds = controller.load(controller.browse()[0]) # only have one day's worth of data"
   ]
  },
  {
   "cell_type": "code",
   "execution_count": null,
   "metadata": {},
   "outputs": [],
   "source": [
    "assert(ds)"
   ]
  },
  {
   "cell_type": "markdown",
   "metadata": {},
   "source": [
    "## Compute the Cross Polar Cap Potential\n",
    "\n",
    "Next, lets compute the Cross Polar Cap Potential for each of our times in the data\n",
    "\n",
    "Note: For a given grid of electric potentials $X$, the Cross Polar Cap Potential $P(X)$ is \n",
    "\n",
    "$$ P(X) = V_{\\text{max}} - V_{\\text{min}} $$"
   ]
  },
  {
   "cell_type": "code",
   "execution_count": null,
   "metadata": {},
   "outputs": [],
   "source": [
    "epots = ds['epot']"
   ]
  },
  {
   "cell_type": "code",
   "execution_count": null,
   "metadata": {},
   "outputs": [],
   "source": [
    "def p(X):\n",
    "    pass\n",
    "    # TODO: compute the Potential!\n",
    "    \n",
    "    # HINT: for each data point, is it the max/min?\n",
    "    \n",
    "# ANSWER\n",
    "def p(X):\n",
    "    max_v = - np.infty\n",
    "    min_v = np.infty\n",
    "    for i in range(len(X)):\n",
    "        for j in range(len(X[i])):\n",
    "            curr = X[i][j]\n",
    "            if curr < min_v:\n",
    "                min_v = curr\n",
    "            if curr > max_v:\n",
    "                max_v = curr\n",
    "    return max_v - min_v"
   ]
  },
  {
   "cell_type": "code",
   "execution_count": null,
   "metadata": {},
   "outputs": [],
   "source": [
    "assert(np.isclose(p(epots[0]), 35606, rtol=1))\n",
    "assert(np.isclose(p(epots[1]), 46794, rtol=1))\n",
    "assert(np.isclose(p(epots[2]), 43367, rtol=1))\n",
    "assert(np.isclose(p(epots[3]), 24870, rtol=1))"
   ]
  },
  {
   "cell_type": "code",
   "execution_count": null,
   "metadata": {},
   "outputs": [],
   "source": [
    "# Get all the potentials for each datetime\n",
    "times = []\n",
    "potentials = []\n",
    "for el in epots:\n",
    "    times.append(el.time)\n",
    "    potentials.append(p(el))"
   ]
  },
  {
   "cell_type": "markdown",
   "metadata": {},
   "source": [
    "## Plot the Potentials on a time series"
   ]
  },
  {
   "cell_type": "code",
   "execution_count": null,
   "metadata": {},
   "outputs": [],
   "source": [
    "# string formatter for datetime64 to datetime\n",
    "def get_datetimes(times):\n",
    "    res = []\n",
    "    for i in range(len(times)):\n",
    "        x = np.datetime_as_string(times[i].time.values, unit='s')\n",
    "        res.append(datetime.strptime(x, '%Y-%m-%dT%H:%M:%S'))\n",
    "    return res \n",
    "\n",
    "times = get_datetimes(times)\n",
    "    \n",
    "# plot the values over a time series\n",
    "fig, ax = plt.subplots(figsize=(6, 6))\n",
    "ax.scatter([el.hour for el in times], [int(p) for p in potentials])\n",
    "\n",
    "# label plot\n",
    "ax.set_ylabel(epots.units)\n",
    "ax.set_xlabel('hour')\n",
    "plt.xticks(rotation=45)\n",
    "fig.suptitle('Cross Polar Cap Potential on %s/%s/%s' % (times[0].month, times[0].day, times[0].year), fontsize=16)\n",
    "None"
   ]
  },
  {
   "cell_type": "markdown",
   "metadata": {},
   "source": [
    "Awesome! While simple this example demonstrates how easy it is to get from AMGeO maps to plots with only a couple code cells. \n",
    "\n",
    "If this example was too simple, lets take a stab at the other Example: Principal Component Analysis"
   ]
  }
 ],
 "metadata": {
  "kernelspec": {
   "display_name": "Python 3",
   "language": "python",
   "name": "python3"
  },
  "language_info": {
   "codemirror_mode": {
    "name": "ipython",
    "version": 3
   },
   "file_extension": ".py",
   "mimetype": "text/x-python",
   "name": "python",
   "nbconvert_exporter": "python",
   "pygments_lexer": "ipython3",
   "version": "3.7.6"
  }
 },
 "nbformat": 4,
 "nbformat_minor": 4
}

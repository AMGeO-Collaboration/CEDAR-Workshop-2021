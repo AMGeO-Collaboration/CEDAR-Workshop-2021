{
 "cells": [
  {
   "cell_type": "markdown",
   "metadata": {},
   "source": [
    "# Polar Plot Example\n",
    "\n",
    "In this exercise, we will plot a simple polar plot of AMGeO electric potentials!\n",
    "\n",
    "For this exercise, the only steps that will be taken will be as follows:\n",
    "\n",
    "- Generate an AMGeO Map\n",
    "- Load the AMGeO Map into Xarray\n",
    "- Plot the Map using some pre-compiled plotting functions"
   ]
  },
  {
   "cell_type": "raw",
   "metadata": {},
   "source": [
    "First, lets import our packages"
   ]
  },
  {
   "cell_type": "code",
   "execution_count": null,
   "metadata": {},
   "outputs": [],
   "source": [
    "import numpy as np\n",
    "import matplotlib.pyplot as plt\n",
    "from datetime import datetime\n",
    "from AMGeO.api import AMGeOApi\n",
    "\n",
    "api = AMGeOApi()"
   ]
  },
  {
   "cell_type": "markdown",
   "metadata": {},
   "source": [
    "## Generate AMGeO Data\n",
    "\n",
    "Let's generate data for **5/6/2014 12:30:00**\n",
    "\n",
    "Before completing this step, lets set our output dir to a local directory for this notebook, and use a new directory for this specific exercise"
   ]
  },
  {
   "cell_type": "code",
   "execution_count": null,
   "metadata": {},
   "outputs": [],
   "source": [
    "api.set_output_dir('./polar_plot_example_output')"
   ]
  },
  {
   "cell_type": "markdown",
   "metadata": {},
   "source": [
    "Then, generate the AMGeO map!"
   ]
  },
  {
   "cell_type": "code",
   "execution_count": null,
   "metadata": {},
   "outputs": [],
   "source": [
    "dt = None # TODO!\n",
    "\n",
    "dt = datetime(2014, 5, 6, 12, 30, 0)"
   ]
  },
  {
   "cell_type": "code",
   "execution_count": null,
   "metadata": {},
   "outputs": [],
   "source": [
    "from answers import ans4\n",
    "assert(ans4 == dt)"
   ]
  },
  {
   "cell_type": "code",
   "execution_count": null,
   "metadata": {
    "scrolled": false
   },
   "outputs": [],
   "source": [
    "controller = api.get_controller()\n",
    "controller.generate(dt, 'N')"
   ]
  },
  {
   "cell_type": "markdown",
   "metadata": {},
   "source": [
    "## Load AMGeO Data\n",
    "\n",
    "Now that we have the data, lets load it into this notebook"
   ]
  },
  {
   "cell_type": "code",
   "execution_count": null,
   "metadata": {},
   "outputs": [],
   "source": [
    "ds = controller.load(controller.browse()[0]) # get only day in output directory"
   ]
  },
  {
   "cell_type": "code",
   "execution_count": null,
   "metadata": {},
   "outputs": [],
   "source": [
    "assert(ds)"
   ]
  },
  {
   "cell_type": "markdown",
   "metadata": {},
   "source": [
    "## Creating a Polar Plot\n",
    "\n",
    "With our data now in an Xarray Dataset, lets plot it!\n",
    "\n",
    "Below are some helper functions to make the plotting easy!"
   ]
  },
  {
   "cell_type": "code",
   "execution_count": null,
   "metadata": {},
   "outputs": [],
   "source": [
    "def polar2dial(ax):\n",
    "    \"\"\"\n",
    "    Turns a matplotlib axes polar plot into a dial plot\n",
    "    \"\"\"\n",
    "    #Rotate the plot so that noon is at the top and midnight\n",
    "    #is at the bottom, and fix the labels so radial direction\n",
    "    #is latitude and azimuthal direction is local time in hours\n",
    "    ax.set_theta_zero_location('S')\n",
    "    theta_label_values = np.array([0.,3.,6.,9.,12.,15.,18.,21.])*180./12\n",
    "    theta_labels = ['%d:00' % (int(th/180.*12)) for th in theta_label_values.flatten().tolist()]\n",
    "    ax.set_thetagrids(theta_label_values,labels=theta_labels)\n",
    "\n",
    "    r_label_values = 90.-np.array([80.,70.,60.,50.,40.])\n",
    "    r_labels = [r'$%d^{o}$' % (int(90.-rv)) for rv in r_label_values.flatten().tolist()]\n",
    "    ax.set_rgrids(r_label_values,labels=r_labels)\n",
    "\n",
    "def plot_potential(lats, lons, epot):\n",
    "    \"\"\"\n",
    "    Plots an electric potential grid over a dial plot\n",
    "    \n",
    "    Parameters:\n",
    "    ----------\n",
    "    lats: array-like\n",
    "        1d array of the latitude measurements provided by AMGeO\n",
    "        \n",
    "    lons: array-like\n",
    "        1d array of the latitude measurements provided by AMGeO\n",
    "        \n",
    "    epot: array-like\n",
    "        2d array of electric potentials provided by AMGeO\n",
    "    \"\"\"\n",
    "    f = plt.figure()\n",
    "    ax = f.add_subplot(111,projection='polar')\n",
    "    polar2dial(ax)\n",
    "    r = np.radians(90.-lats)\n",
    "    th = np.radians(lons)\n",
    "    maxpot = np.nanpercentile(np.abs(epot),95)\n",
    "    mappable = ax.contourf(th,r,epot,20,cmap='RdBu_r',vmin=-maxpot,vmax=maxpot)\n",
    "    f.colorbar(mappable)\n",
    "    return f, ax"
   ]
  },
  {
   "cell_type": "code",
   "execution_count": null,
   "metadata": {
    "scrolled": true
   },
   "outputs": [],
   "source": [
    "epots = ds['epot'][0] # grab the one (and only) map from the electric potentials in the dataset\n",
    "# TODO: fill in the blanks! \n",
    "# HINT: don't overthink this part\n",
    "lats = None\n",
    "lons = None\n",
    "\n",
    "# NOTE: answer given post workshop\n",
    "lats = epots.lat\n",
    "lons = epots.lon"
   ]
  },
  {
   "cell_type": "code",
   "execution_count": null,
   "metadata": {},
   "outputs": [],
   "source": [
    "assert(lats.shape == (24,))\n",
    "assert(lons.shape == (37,))"
   ]
  },
  {
   "cell_type": "code",
   "execution_count": null,
   "metadata": {},
   "outputs": [],
   "source": [
    "fig, ax = plot_potential(lats, lons, epots)\n",
    "fig.suptitle(epots.time.values)\n",
    "None"
   ]
  },
  {
   "cell_type": "markdown",
   "metadata": {},
   "source": [
    "Woohoo! What a cool Polar Plot!"
   ]
  }
 ],
 "metadata": {
  "kernelspec": {
   "display_name": "Python 3",
   "language": "python",
   "name": "python3"
  },
  "language_info": {
   "codemirror_mode": {
    "name": "ipython",
    "version": 3
   },
   "file_extension": ".py",
   "mimetype": "text/x-python",
   "name": "python",
   "nbconvert_exporter": "python",
   "pygments_lexer": "ipython3",
   "version": "3.7.6"
  }
 },
 "nbformat": 4,
 "nbformat_minor": 4
}
